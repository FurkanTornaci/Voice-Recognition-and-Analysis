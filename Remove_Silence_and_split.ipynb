{
 "cells": [
  {
   "cell_type": "markdown",
   "id": "f5d13fce",
   "metadata": {},
   "source": [
    "# Voice Activity"
   ]
  },
  {
   "cell_type": "code",
   "execution_count": 1,
   "id": "767d68d7",
   "metadata": {},
   "outputs": [],
   "source": [
    "import numpy as np\n",
    "import librosa\n",
    "import librosa.display\n",
    "import os\n",
    "import scipy.io.wavfile\n",
    "%matplotlib inline"
   ]
  },
  {
   "cell_type": "markdown",
   "id": "fa37b60a",
   "metadata": {},
   "source": [
    "### Relative Path"
   ]
  },
  {
   "cell_type": "code",
   "execution_count": 11,
   "id": "8febcbc2",
   "metadata": {},
   "outputs": [
    {
     "data": {
      "text/plain": [
       "['ENG',\n",
       " '4CH072I',\n",
       " '4CH071I',\n",
       " '.DS_Store',\n",
       " '4CH069I',\n",
       " '4CH067I',\n",
       " 'MAAP3',\n",
       " 'MAAP5',\n",
       " 'MAAP2',\n",
       " '4CH065I',\n",
       " '4CH066I',\n",
       " '4CH068I',\n",
       " 'MAAP7',\n",
       " 'MAAP6']"
      ]
     },
     "execution_count": 11,
     "metadata": {},
     "output_type": "execute_result"
    }
   ],
   "source": [
    "cur_path = os.getcwd()\n",
    "relative_path = os.path.relpath('..\\\\data\\\\pepper robot sesleri\\\\raw\\\\Copy of Aferin.wav', cur_path)\n",
    "recordNames = os.listdir(\"./ses/\")\n",
    "recordNames"
   ]
  },
  {
   "cell_type": "code",
   "execution_count": 3,
   "metadata": {},
   "outputs": [],
   "source": [
    "def split_into_intervals(data, k = 1600):\n",
    "    intervals = [data[n*k:(n+1)*k] for n in range(int(len(data)/k))]\n",
    "    return intervals"
   ]
  },
  {
   "cell_type": "markdown",
   "id": "2b7c1712",
   "metadata": {},
   "source": [
    "## 1. Remove silence."
   ]
  },
  {
   "cell_type": "code",
   "execution_count": 4,
   "id": "ce3c8fc5",
   "metadata": {},
   "outputs": [],
   "source": [
    "def split_and_export(path_in, path_out, k, title, remove_silence = 1):\n",
    "    if not os.path.isdir(path_out):\n",
    "        os.mkdir(path_out)\n",
    "    audioFiles = [f for f in os.listdir(path_in) if os.path.isfile(os.path.join(path_in, f))]\n",
    "    mergedAudioData = []\n",
    "    for audio in audioFiles:\n",
    "        if \".wav\" not in audio:\n",
    "            continue\n",
    "        data, sr = librosa.load(path_in + \"/\" + audio, sr=8000)\n",
    "        mergedAudioData.extend(data)\n",
    "    if remove_silence:\n",
    "        silenceRemovedData, index = librosa.effects.trim(np.array(mergedAudioData), top_db=50)\n",
    "        robot_intervals = split_into_intervals(np.array(silenceRemovedData), k)\n",
    "    else:\n",
    "        robot_intervals = split_into_intervals(np.array(mergedAudioData), k)\n",
    "    counter = 0\n",
    "    for i in range(0, len(robot_intervals)):\n",
    "        scipy.io.wavfile.write(os.path.abspath(path_out) + \"/\" +\"Sample{}{}_K{}.wav\".format(title, i, k), sr, robot_intervals[i])"
   ]
  },
  {
   "cell_type": "code",
   "execution_count": 7,
   "id": "7c5736c7",
   "metadata": {},
   "outputs": [],
   "source": [
    "notSampledPath = \"./ses/{}/{}\"\n",
    "sampledPath = \"./ses/{}/samples_{}\""
   ]
  },
  {
   "cell_type": "code",
   "execution_count": 12,
   "id": "61dd9abe",
   "metadata": {},
   "outputs": [],
   "source": [
    "for recordName in recordNames:\n",
    "    if \"DS\" not in recordName:\n",
    "        for label in [0,1]:\n",
    "            relative_path_in = os.path.relpath(notSampledPath.format(recordName, label), cur_path)\n",
    "            relative_path_out = os.path.relpath(sampledPath.format(recordName, label), cur_path)\n",
    "            split_and_export(relative_path_in, relative_path_out, 1600, f\"enes_{label}label_\", remove_silence = label)"
   ]
  },
  {
   "cell_type": "code",
   "execution_count": null,
   "id": "01ed38b4",
   "metadata": {},
   "outputs": [],
   "source": []
  }
 ],
 "metadata": {
  "interpreter": {
   "hash": "ce82ef876275624168f236aee68730db0b2157e7c78903c61b096ff0427633a1"
  },
  "kernelspec": {
   "display_name": "Python 3.7.11 64-bit ('emboa': conda)",
   "name": "python3"
  },
  "language_info": {
   "codemirror_mode": {
    "name": "ipython",
    "version": 3
   },
   "file_extension": ".py",
   "mimetype": "text/x-python",
   "name": "python",
   "nbconvert_exporter": "python",
   "pygments_lexer": "ipython3",
   "version": "3.7.13"
  }
 },
 "nbformat": 4,
 "nbformat_minor": 5
}
